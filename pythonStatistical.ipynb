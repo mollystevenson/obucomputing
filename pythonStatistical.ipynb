{
 "cells": [
  {
   "cell_type": "markdown",
   "id": "subject-melissa",
   "metadata": {},
   "source": [
    "## Pandas\n",
    "\n",
    "Python's data structures (lists, dictionaries, etc.) are suitable for many purposes, but complex calculations repeated over and over again will often be slow in Python. *Numpy* was developed to create structures of data (called arrays) that are much faster in mathematical operations, in large part because the data types of all the elements in an array will be the same type. These numbers often lack the context to make the content meaningful, though. *Pandas* was developed on top of numpy to create data structures that would facilitate rapid calculation of numerical data while preserving the context that allows for the selection and manipulation of that data.\n",
    "\n",
    "Pandas is not included by default in Python, but can be installed and used like any other module in Python. In the documentation, pandas is usually abbreviated as pd in the import statement."
   ]
  },
  {
   "cell_type": "code",
   "execution_count": 2,
   "id": "fleet-empty",
   "metadata": {
    "tags": []
   },
   "outputs": [],
   "source": [
    "import pandas as pd"
   ]
  },
  {
   "cell_type": "markdown",
   "id": "minimal-information",
   "metadata": {},
   "source": [
    "### Series\n",
    "\n",
    "The fundamental one-dimensional unit of pandas data is the *Series*. A series will have values that are all the same data type, and will also have index values associated with the data values. The index defaults to a series of integers (0,1,2...), but alternate values can be provided."
   ]
  },
  {
   "cell_type": "code",
   "execution_count": null,
   "id": "stupid-reserve",
   "metadata": {
    "tags": []
   },
   "outputs": [],
   "source": [
    "numbers = pd.Series([12.3,-4,8,2.7])\n",
    "print(numbers)"
   ]
  },
  {
   "cell_type": "code",
   "execution_count": null,
   "id": "known-serve",
   "metadata": {},
   "outputs": [],
   "source": [
    "ages = pd.Series([24,18,31,25],index=[\"Rick\",\"George\",\"Bob\",\"Freddie\"])\n",
    "print(ages)"
   ]
  },
  {
   "cell_type": "markdown",
   "id": "unexpected-preservation",
   "metadata": {},
   "source": [
    "Series can be subsetted by index, by slice or by boolean series."
   ]
  },
  {
   "cell_type": "code",
   "execution_count": null,
   "id": "virgin-conservative",
   "metadata": {},
   "outputs": [],
   "source": [
    "print(numbers[1])\n",
    "print(ages[\"Bob\"])\n",
    "print(ages[[\"George\",\"Rick\",\"George\"]])\n",
    "print(ages[\"George\":\"Freddie\"])\n",
    "print(ages[ages<30])"
   ]
  },
  {
   "cell_type": "markdown",
   "id": "narrow-alloy",
   "metadata": {},
   "source": [
    "Series values can be used in mathematical operations. Each element of the series will be used in the series, without the need to set up an explicit loop. "
   ]
  },
  {
   "cell_type": "code",
   "execution_count": null,
   "id": "thick-review",
   "metadata": {},
   "outputs": [],
   "source": [
    "print(numbers*0.3)"
   ]
  },
  {
   "cell_type": "code",
   "execution_count": null,
   "id": "bigger-tyler",
   "metadata": {},
   "outputs": [],
   "source": [
    "print(ages+10)"
   ]
  },
  {
   "cell_type": "markdown",
   "id": "simple-offset",
   "metadata": {},
   "source": [
    "Series can be used in mathematical operations with other series. In this case, the operations are aligned by index value, meaning the operation will be performed for each index value in the pair of series. If the two series have different values in their indices, this will lead to NaN (not a number) values for every index value that is unique to one of the series. As such, it's helpful when performing mathematical operations with multiple series if they have a common index."
   ]
  },
  {
   "cell_type": "code",
   "execution_count": null,
   "id": "developed-portable",
   "metadata": {},
   "outputs": [],
   "source": [
    "print(numbers*numbers)"
   ]
  },
  {
   "cell_type": "code",
   "execution_count": null,
   "id": "oriented-abortion",
   "metadata": {},
   "outputs": [],
   "source": [
    "print(numbers+ages)"
   ]
  },
  {
   "cell_type": "markdown",
   "id": "impossible-patient",
   "metadata": {},
   "source": [
    "### Data Frames\n",
    "\n",
    "It will often be convenient, when performing calculations on different sets of numbers, to create sets of series that share a common index. The series will then have the same length, and mathematical operations between the series will be aligned appropriately. In pandas, this structure is called a *data frame*, and is the most common data structure used in data analyses in pandas. In addition to the common index, each series will also have a unique name and its own data type. This arrangement of data fits nicely into the tidy data paradigm, with each series representing a column of values corresponding to a particular variable (usually the name of the series), and each value in the index corresponding to a different observation or row.\n",
    "\n",
    "While there is a function, *DataFrame*, that can be used to create a data frame from individual series, it's more common to compile data in another file and read it into Python. There are pandas functions for reading data from different files or other sources. Reading of data from text files is generally based on the CSV (comma-separated values) format, which can be generated either by hand or by several different programs.\n",
    "\n",
    "The following code block reads data from a file that is *not* in CSV format, but still uses the read_csv function to read it. Several optional arguments are provided to indicate how the data is formatted."
   ]
  },
  {
   "cell_type": "code",
   "execution_count": null,
   "id": "capital-millennium",
   "metadata": {},
   "outputs": [],
   "source": [
    "gas = pd.read_csv(\"gasoline.data\", delim_whitespace=True,\n",
    "                 index_col=0, parse_dates=True)\n",
    "print(gas)"
   ]
  },
  {
   "cell_type": "markdown",
   "id": "electric-attack",
   "metadata": {},
   "source": [
    "### Subsetting\n",
    "\n",
    "With a pandas data frame, it will often be helpful in performing analyses to be able to generate subsets of a collection of data for further processing. Pandas series and data frames are frequently treated like lists or dictionaries, in that the same subsetting notation (square brackets) is used for all of them. Series and data frames have additional syntax which allows for a more sophisticated selection of data.\n",
    "\n",
    "Providing a data frame with the name of a series in the data frame will return the series."
   ]
  },
  {
   "cell_type": "code",
   "execution_count": null,
   "id": "connected-disclaimer",
   "metadata": {},
   "outputs": [],
   "source": [
    "print(gas[\"fuel\"])"
   ]
  },
  {
   "cell_type": "markdown",
   "id": "palestinian-lottery",
   "metadata": {},
   "source": [
    "Subsets of data can be selected by row identifiers (the index), column identifiers (names), and/or by boolean series for rows or columns. When using boolean series, rows or columns that have a True value in the series will be returned in the subset. Note that this code block uses the *loc* attribute to select the particular subset we are interested in. "
   ]
  },
  {
   "cell_type": "code",
   "execution_count": null,
   "id": "unique-radiation",
   "metadata": {},
   "outputs": [],
   "source": [
    "print(gas[\"mpg\"]>27)"
   ]
  },
  {
   "cell_type": "code",
   "execution_count": null,
   "id": "institutional-reliance",
   "metadata": {},
   "outputs": [],
   "source": [
    "print(gas.loc[gas[\"mpg\"]>27,:])"
   ]
  },
  {
   "cell_type": "markdown",
   "id": "according-scroll",
   "metadata": {},
   "source": [
    "### Grouping and Aggregating Data\n",
    "\n",
    "Data in a \"tidy\" format, with categories listed in different columns, often need to be separated into categories in the process of analyzing the data. This can be accomplished fairly readily in pandas data frames with a *groupby* method, which takes as its main argument the column (or columns, if provided with a list) that contain the categories of the data. The method returns an object that contains the groups into which the data is collected. This grouped object can be used like a list in looping structures, or it can be analyzed with *aggregating* methods that perform simple calculations on the data.\n",
    "\n",
    "The following code block groups the gasoline data by fuel and station, and calculates the mean of the price per gallon for every combination of fuel and station. To showcase another feature of pandas data frames, the resulting aggregated prices will also be displayed in a \"wide\" form, which is common for display of certain types of data. This analysis will be performed in steps, but the steps could be combined into a single line to avoid unnecessary creation of variable names."
   ]
  },
  {
   "cell_type": "code",
   "execution_count": null,
   "id": "interim-alert",
   "metadata": {},
   "outputs": [],
   "source": [
    "pricegroups = gas[[\"fuel\",\"station\",\"ppg\"]].groupby([\"fuel\",\"station\"])\n",
    "pricemean = pricegroups.mean()\n",
    "print(pricemean)"
   ]
  },
  {
   "cell_type": "code",
   "execution_count": null,
   "id": "offensive-officer",
   "metadata": {},
   "outputs": [],
   "source": [
    "print(pricemean.unstack())"
   ]
  },
  {
   "cell_type": "markdown",
   "id": "oriented-bruce",
   "metadata": {},
   "source": [
    "## Statistical Analysis\n",
    "\n",
    "Pandas data frames are classes with methods for collecting rudimentary analyses of data, such as finding averages, sums or extreme values within the collection of data. To perform more rigorous statistical analyses, though, other Python modules can be used. The *statsmodels* module facilitates statistical analysis of data assembled in pandas data frames. The module provides several functions for doing different\n",
    "types of data analysis."
   ]
  },
  {
   "cell_type": "code",
   "execution_count": 1,
   "id": "varied-editor",
   "metadata": {},
   "outputs": [],
   "source": [
    "import statsmodels as sm"
   ]
  },
  {
   "cell_type": "code",
   "execution_count": 2,
   "id": "right-cleaners",
   "metadata": {},
   "outputs": [],
   "source": [
    "import statsmodels.formula.api as smf"
   ]
  },
  {
   "cell_type": "code",
   "execution_count": 4,
   "id": "continuous-algeria",
   "metadata": {},
   "outputs": [],
   "source": [
    "from scipy import stats"
   ]
  },
  {
   "cell_type": "code",
   "execution_count": 8,
   "id": "fewer-motivation",
   "metadata": {},
   "outputs": [
    {
     "data": {
      "text/plain": [
       "Ttest_indResult(statistic=2.4538705315908325, pvalue=0.020869556705461444)"
      ]
     },
     "execution_count": 8,
     "metadata": {},
     "output_type": "execute_result"
    }
   ],
   "source": [
    "stats.ttest_ind(gas[\"ppg\"][gas[\"fuel\"]==\"Unleaded87\"],\n",
    "            gas[\"ppg\"][gas[\"fuel\"]==\"E10\"])"
   ]
  },
  {
   "cell_type": "code",
   "execution_count": null,
   "id": "scenic-integral",
   "metadata": {},
   "outputs": [],
   "source": [
    "stationsmodel = smf.ols('ppg~station', data=gas)\n",
    "stationlm = stationsmodel.fit()\n",
    "print(stationlm.summary())"
   ]
  },
  {
   "cell_type": "markdown",
   "id": "driving-porcelain",
   "metadata": {},
   "source": [
    "## Visualization of Data\n",
    "\n",
    "Several Python modules have been developed to produce plots of numerical data. Pandas is designed to work particularly well with matplotlib, which is part of the same project that developed numpy, on which Pandas is based. "
   ]
  },
  {
   "cell_type": "code",
   "execution_count": 12,
   "id": "documented-production",
   "metadata": {},
   "outputs": [],
   "source": [
    "from matplotlib import pyplot as plt"
   ]
  },
  {
   "cell_type": "markdown",
   "id": "baking-polls",
   "metadata": {},
   "source": [
    "Pandas series and data frames include methods for plotting data. By default, they will use matplotlib for the functions required for creating plots.\n",
    "\n",
    "Plotting a Series will plot the values in the series as a function of the index values."
   ]
  },
  {
   "cell_type": "code",
   "execution_count": null,
   "id": "dynamic-annex",
   "metadata": {},
   "outputs": [],
   "source": [
    "gas[\"ppg\"].plot()"
   ]
  },
  {
   "cell_type": "markdown",
   "id": "christian-wright",
   "metadata": {},
   "source": [
    "Pandas data frames also have a plot method associated with them."
   ]
  },
  {
   "cell_type": "code",
   "execution_count": null,
   "id": "optional-blake",
   "metadata": {},
   "outputs": [],
   "source": [
    "gas.plot()"
   ]
  },
  {
   "cell_type": "markdown",
   "id": "twenty-transcript",
   "metadata": {},
   "source": [
    "Plots can be created by specifying the x and y values by column title."
   ]
  },
  {
   "cell_type": "code",
   "execution_count": null,
   "id": "tough-clearing",
   "metadata": {},
   "outputs": [],
   "source": [
    "gas.plot(x=\"ppg\", y=\"mpg\", kind=\"scatter\")"
   ]
  },
  {
   "cell_type": "markdown",
   "id": "suspended-soccer",
   "metadata": {},
   "source": [
    "Creating a program will allow you to manage plotting while leveraging other aspects of data management in Python"
   ]
  },
  {
   "cell_type": "code",
   "execution_count": null,
   "id": "native-geography",
   "metadata": {},
   "outputs": [],
   "source": [
    "gas.boxplot(column=\"ppg\", by=\"fuel\")"
   ]
  },
  {
   "cell_type": "markdown",
   "id": "removed-detection",
   "metadata": {},
   "source": [
    "## Seaborn\n",
    "\n",
    "It's possible to create fairly sophisticated plots with Matplotlib, but this generally requires quite a bit of code to accomplish. Other Python modules have been developed to create more sophisticated plots with a smaller amount of code. Seaborn is a module that defines several functions for generating plots with Matplotlib, while specifying a relatively few parameters."
   ]
  },
  {
   "cell_type": "code",
   "execution_count": 27,
   "id": "alternate-render",
   "metadata": {},
   "outputs": [],
   "source": [
    "import seaborn as sns"
   ]
  },
  {
   "cell_type": "code",
   "execution_count": null,
   "id": "intelligent-reynolds",
   "metadata": {},
   "outputs": [],
   "source": [
    "sns.scatterplot(x=\"ppg\",y=\"mpg\",hue=\"station\",data=gas)"
   ]
  },
  {
   "cell_type": "code",
   "execution_count": null,
   "id": "disabled-brunswick",
   "metadata": {},
   "outputs": [],
   "source": []
  }
 ],
 "metadata": {
  "kernelspec": {
   "display_name": "Python 3 (ipykernel)",
   "language": "python",
   "name": "python3"
  },
  "language_info": {
   "codemirror_mode": {
    "name": "ipython",
    "version": 3
   },
   "file_extension": ".py",
   "mimetype": "text/x-python",
   "name": "python",
   "nbconvert_exporter": "python",
   "pygments_lexer": "ipython3",
   "version": "3.12.1"
  }
 },
 "nbformat": 4,
 "nbformat_minor": 5
}
