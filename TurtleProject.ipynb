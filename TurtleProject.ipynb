{
 "cells": [
  {
   "cell_type": "code",
   "execution_count": 1,
   "id": "052ca278-408e-4ee9-8704-3883dd7a2973",
   "metadata": {},
   "outputs": [],
   "source": [
    "import turtle\n",
    "from time import sleep\n",
    "\n",
    "class TurtleGon(turtle.Turtle):\n",
    "    def colorgon(self, colorlist, side=50, fillcolor=None):\n",
    "        angle = 180 - 180 * (len(colorlist) - 2) / len(colorlist)\n",
    "        if fillcolor is not None:\n",
    "            self.fillcolor(fillcolor)\n",
    "            self.begin_fill()\n",
    "        for color in colorlist:\n",
    "            self.pencolor(color)\n",
    "            self.forward(side)\n",
    "            self.left(angle)\n",
    "        if fillcolor is not None:\n",
    "            self.end_fill()\n",
    "        return\n",
    "\n",
    "franklin = TurtleGon()\n",
    "sleep(5)\n",
    "franklin.colorgon([\"maroon\",\"firebrick\",\"dark orange\",\"orange\"], fillcolor=\"blue\")\n",
    "franklin.penup()\n",
    "franklin.goto(100,100)\n",
    "franklin.pendown()\n",
    "franklin.colorgon([\"blue\",\"blue\",\"blue\"], fillcolor=\"cyan\")\n",
    "franklin.penup()\n",
    "franklin.goto(-100,-100)\n",
    "franklin.pendown()\n",
    "franklin.colorgon([\"deep pink\",\"hot pink\",\"magenta\",\"medium violet red\",\"pale violet red\"], fillcolor=\"pink\")\n",
    "franklin.penup()\n",
    "franklin.goto(-200, -200)\n",
    "franklin.pendown()\n",
    "franklin.colorgon([\"dark olive green\",\"olive\",\"medium spring green\",\"light green\",\"spring green\",\"lime\"], fillcolor=\"green\")\n",
    "sleep(5)\n",
    "# I attempted to create a diagonal line from top right to bottom left, adding a side to each shape. Also, giving each shape its own unique color."
   ]
  },
  {
   "cell_type": "code",
   "execution_count": null,
   "id": "d228b76a-5ca5-4612-884e-728795872128",
   "metadata": {},
   "outputs": [],
   "source": []
  }
 ],
 "metadata": {
  "kernelspec": {
   "display_name": "Python 3 (ipykernel)",
   "language": "python",
   "name": "python3"
  },
  "language_info": {
   "codemirror_mode": {
    "name": "ipython",
    "version": 3
   },
   "file_extension": ".py",
   "mimetype": "text/x-python",
   "name": "python",
   "nbconvert_exporter": "python",
   "pygments_lexer": "ipython3",
   "version": "3.12.1"
  }
 },
 "nbformat": 4,
 "nbformat_minor": 5
}
